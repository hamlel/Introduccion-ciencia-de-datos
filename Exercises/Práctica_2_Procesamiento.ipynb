{
 "cells": [
  {
   "cell_type": "markdown",
   "id": "030f9120-0a4c-46cd-92c3-c7450fa0968d",
   "metadata": {},
   "source": [
    "## Práctica 2: Procesamiento de datatasets\n",
    "\n",
    "#### Resumen \n",
    "Se selecciono un conjunto de datos relacionado con el desempeño de estudiantes en el examen final, el conjunto de datos tiene variables como horas de estudio, horas de sueño, actividades extracurriculares, participación de los padres, género de los estudiantes, puntuación final del examen, entre otros. Se realizo un analisis exploratorio para cada variable de manera univariada y vibariada posteriormente se construyo una variable extra con la clasificación de acuerdo al puntaje de examen final (bajo menor a 70, medio mayor a 70 y menor o igual 80 y alto mayor a 80). Sin embargo, no se identificaban una tendencia clara en las variables que podrian estar influyendo en la puntuación final de los estudiantes. Posteriormente se aplicarón tecnicas de reducción de dimensionalidad (PCA, T-SNE, LDA y UMAP) de los métodos anteriores las que tuvierón mejor desempeño fuerón LDA y UMAP. Sin embargo, tienen desempeño deficiente para identificar a la clase con menos registros por ultimo se aplicaron métodos de selección de variables y las que resultaron con puntaje predominante fuerón la asistencia a clases, la puntuación en examenes previos y el número de horas de estudio. A su vez las demas variables no resultarón con puntuaciones suficientes para ser consideradas como influyentes en la puntuación final de los estudiantes. Por ultimo se conluye que estos resultados son utiles para establecer iniciativas que ayuden a mejorar el desempeño de los estudiantes de manera dirigida y basada en evidencias."
   ]
  },
  {
   "cell_type": "markdown",
   "id": "1bd01714-3003-443f-944a-8752d84a64f9",
   "metadata": {},
   "source": [
    "### La segunda práctica consiste en seleccionar un Dataset de interés (se puede elegir el dataset de la práctica 1), y aplicar al menos tres técnicas de los siguientes tipos de procesamiento:\n",
    "\n",
    "    Limpieza de datos\n",
    "    Aumento de datos\n",
    "    Extracción de características\n",
    "    Reducción de dimensionalidad\n",
    "    Selección de características\n",
    "\n",
    "Por ejemplo, eliminación de datos incompletos (limpieza de datos), PCA (reducción de dimensionalidad), y ganancia de información (selección de atributos). Sobra decir que se requiere realizar un análisis exploratorio de los datos."
   ]
  },
  {
   "cell_type": "markdown",
   "id": "490db880-0f63-44c9-9cc0-b09e6e5336ea",
   "metadata": {},
   "source": [
    "## Selección del conjunto de datos "
   ]
  },
  {
   "cell_type": "markdown",
   "id": "126f52e4-8154-436c-b9ed-c5bc7ccc213b",
   "metadata": {},
   "source": [
    "# Factores que influyen en el desempeño de los estudiantes\n",
    "\n",
    "### Descripción\n",
    "\n",
    "#### Este conjunto de datos ofrece una visión global de diversos factores que afectan al rendimiento de los estudiantes en los exámenes. Incluye información sobre hábitos de estudio, asistencia, participación de los padres y otros aspectos que influyen en el éxito académico."
   ]
  },
  {
   "cell_type": "markdown",
   "id": "bc161318-8abf-4ec1-91a5-1fd333349edd",
   "metadata": {},
   "source": [
    " Atributos\n",
    " \n",
    " Hours_Studied: \tNúmero de horas de estudio por semana.\n",
    " \n",
    " Attendance: \tPorcentaje de asistencia.\n",
    " \n",
    " Parental_Involvement: \tNivel de participación de los padres en la educación de sus hijos (Low, Medium, High).\n",
    " \n",
    " Access_to_Resources: \tDisponibilidad de recursos educativos (Low, Medium, High).\n",
    " \n",
    " Extracurricular_Activities: \tParticiáción en actividades extracurriculares (Yes, No).\n",
    " \n",
    " Sleep_Hours: \tNúmero de horas promedio por noche.\n",
    " \n",
    " Previous_Scores: \tPuntuación de examenes anteriores.\n",
    " \n",
    " Motivation_Level: \tNivel de motivación de los estudiantes (Low, Medium, High).\n",
    " \n",
    " Internet_Access: \tDisponibilidad de acceso a internet (Yes, No).\n",
    " \n",
    " Tutoring_Sessions: \tNúmero de sesiones de tutoria que asiste al mes.\n",
    " \n",
    " Family_Income: \tNivel de ingreso económico familiar (Low, Medium, High).\n",
    " \n",
    " Teacher_Quality: \tCalidad de los profesores (Low, Medium, High).\n",
    " \n",
    " School_Type: \tTipo de escuela  (Public, Private).\n",
    " \n",
    " Peer_Influence: \tInfluencia de compañeros en desemepeño académico (Positive, Neutral, Negative).\n",
    " \n",
    " Physical_Activity: \tNúmero de horas promedio de actividad física a la semana.\n",
    " \n",
    " Learning_Disabilities: \tPresencia de dificultades de aprendizaje. (Yes, No).\n",
    " \n",
    " Parental_Education_Level: \tNivel de educación alcanzado por los padres (High School, College, Postgraduate).\n",
    " \n",
    " Distance_from_Home: \tDistancia de la casa a la escuela. (Near, Moderate, Far).\n",
    " \n",
    " Gender: \tGénero del estudiante (Male, Female).\n",
    " \n",
    " Exam_Score: \tPuntuación final de examen.\n"
   ]
  },
  {
   "cell_type": "markdown",
   "id": "40bbd977-ff0a-49d0-882e-0abf98af0a69",
   "metadata": {},
   "source": [
    "##### Dirección original del conjunto de datos: https://www.kaggle.com/datasets/lainguyn123/student-performance-factors?resource=download"
   ]
  },
  {
   "cell_type": "markdown",
   "id": "7d1e4657-1488-41d4-b6b8-59cacfd498ce",
   "metadata": {},
   "source": [
    "## Cargamos el conjunto de datos y cargamos las librerias"
   ]
  },
  {
   "cell_type": "code",
   "execution_count": 1,
   "id": "dce6beab-e3cf-44be-8d1b-08b4122d2d97",
   "metadata": {},
   "outputs": [],
   "source": [
    "## cargar las librerias \n",
    "import pandas as pd \n",
    "import numpy as np \n",
    "import matplotlib.pyplot as plt\n",
    "import seaborn as sns "
   ]
  },
  {
   "cell_type": "code",
   "execution_count": 2,
   "id": "fb7042d7-efc4-42fc-9fc9-da8edabbc030",
   "metadata": {},
   "outputs": [
    {
     "data": {
      "text/html": [
       "<div>\n",
       "<style scoped>\n",
       "    .dataframe tbody tr th:only-of-type {\n",
       "        vertical-align: middle;\n",
       "    }\n",
       "\n",
       "    .dataframe tbody tr th {\n",
       "        vertical-align: top;\n",
       "    }\n",
       "\n",
       "    .dataframe thead th {\n",
       "        text-align: right;\n",
       "    }\n",
       "</style>\n",
       "<table border=\"1\" class=\"dataframe\">\n",
       "  <thead>\n",
       "    <tr style=\"text-align: right;\">\n",
       "      <th></th>\n",
       "      <th>Hours_Studied</th>\n",
       "      <th>Attendance</th>\n",
       "      <th>Parental_Involvement</th>\n",
       "      <th>Access_to_Resources</th>\n",
       "      <th>Extracurricular_Activities</th>\n",
       "      <th>Sleep_Hours</th>\n",
       "      <th>Previous_Scores</th>\n",
       "      <th>Motivation_Level</th>\n",
       "      <th>Internet_Access</th>\n",
       "      <th>Tutoring_Sessions</th>\n",
       "      <th>Family_Income</th>\n",
       "      <th>Teacher_Quality</th>\n",
       "      <th>School_Type</th>\n",
       "      <th>Peer_Influence</th>\n",
       "      <th>Physical_Activity</th>\n",
       "      <th>Learning_Disabilities</th>\n",
       "      <th>Parental_Education_Level</th>\n",
       "      <th>Distance_from_Home</th>\n",
       "      <th>Gender</th>\n",
       "      <th>Exam_Score</th>\n",
       "    </tr>\n",
       "  </thead>\n",
       "  <tbody>\n",
       "    <tr>\n",
       "      <th>0</th>\n",
       "      <td>23</td>\n",
       "      <td>84</td>\n",
       "      <td>Low</td>\n",
       "      <td>High</td>\n",
       "      <td>No</td>\n",
       "      <td>7</td>\n",
       "      <td>73</td>\n",
       "      <td>Low</td>\n",
       "      <td>Yes</td>\n",
       "      <td>0</td>\n",
       "      <td>Low</td>\n",
       "      <td>Medium</td>\n",
       "      <td>Public</td>\n",
       "      <td>Positive</td>\n",
       "      <td>3</td>\n",
       "      <td>No</td>\n",
       "      <td>High School</td>\n",
       "      <td>Near</td>\n",
       "      <td>Male</td>\n",
       "      <td>67</td>\n",
       "    </tr>\n",
       "    <tr>\n",
       "      <th>1</th>\n",
       "      <td>19</td>\n",
       "      <td>64</td>\n",
       "      <td>Low</td>\n",
       "      <td>Medium</td>\n",
       "      <td>No</td>\n",
       "      <td>8</td>\n",
       "      <td>59</td>\n",
       "      <td>Low</td>\n",
       "      <td>Yes</td>\n",
       "      <td>2</td>\n",
       "      <td>Medium</td>\n",
       "      <td>Medium</td>\n",
       "      <td>Public</td>\n",
       "      <td>Negative</td>\n",
       "      <td>4</td>\n",
       "      <td>No</td>\n",
       "      <td>College</td>\n",
       "      <td>Moderate</td>\n",
       "      <td>Female</td>\n",
       "      <td>61</td>\n",
       "    </tr>\n",
       "    <tr>\n",
       "      <th>2</th>\n",
       "      <td>24</td>\n",
       "      <td>98</td>\n",
       "      <td>Medium</td>\n",
       "      <td>Medium</td>\n",
       "      <td>Yes</td>\n",
       "      <td>7</td>\n",
       "      <td>91</td>\n",
       "      <td>Medium</td>\n",
       "      <td>Yes</td>\n",
       "      <td>2</td>\n",
       "      <td>Medium</td>\n",
       "      <td>Medium</td>\n",
       "      <td>Public</td>\n",
       "      <td>Neutral</td>\n",
       "      <td>4</td>\n",
       "      <td>No</td>\n",
       "      <td>Postgraduate</td>\n",
       "      <td>Near</td>\n",
       "      <td>Male</td>\n",
       "      <td>74</td>\n",
       "    </tr>\n",
       "    <tr>\n",
       "      <th>3</th>\n",
       "      <td>29</td>\n",
       "      <td>89</td>\n",
       "      <td>Low</td>\n",
       "      <td>Medium</td>\n",
       "      <td>Yes</td>\n",
       "      <td>8</td>\n",
       "      <td>98</td>\n",
       "      <td>Medium</td>\n",
       "      <td>Yes</td>\n",
       "      <td>1</td>\n",
       "      <td>Medium</td>\n",
       "      <td>Medium</td>\n",
       "      <td>Public</td>\n",
       "      <td>Negative</td>\n",
       "      <td>4</td>\n",
       "      <td>No</td>\n",
       "      <td>High School</td>\n",
       "      <td>Moderate</td>\n",
       "      <td>Male</td>\n",
       "      <td>71</td>\n",
       "    </tr>\n",
       "    <tr>\n",
       "      <th>4</th>\n",
       "      <td>19</td>\n",
       "      <td>92</td>\n",
       "      <td>Medium</td>\n",
       "      <td>Medium</td>\n",
       "      <td>Yes</td>\n",
       "      <td>6</td>\n",
       "      <td>65</td>\n",
       "      <td>Medium</td>\n",
       "      <td>Yes</td>\n",
       "      <td>3</td>\n",
       "      <td>Medium</td>\n",
       "      <td>High</td>\n",
       "      <td>Public</td>\n",
       "      <td>Neutral</td>\n",
       "      <td>4</td>\n",
       "      <td>No</td>\n",
       "      <td>College</td>\n",
       "      <td>Near</td>\n",
       "      <td>Female</td>\n",
       "      <td>70</td>\n",
       "    </tr>\n",
       "    <tr>\n",
       "      <th>...</th>\n",
       "      <td>...</td>\n",
       "      <td>...</td>\n",
       "      <td>...</td>\n",
       "      <td>...</td>\n",
       "      <td>...</td>\n",
       "      <td>...</td>\n",
       "      <td>...</td>\n",
       "      <td>...</td>\n",
       "      <td>...</td>\n",
       "      <td>...</td>\n",
       "      <td>...</td>\n",
       "      <td>...</td>\n",
       "      <td>...</td>\n",
       "      <td>...</td>\n",
       "      <td>...</td>\n",
       "      <td>...</td>\n",
       "      <td>...</td>\n",
       "      <td>...</td>\n",
       "      <td>...</td>\n",
       "      <td>...</td>\n",
       "    </tr>\n",
       "    <tr>\n",
       "      <th>6602</th>\n",
       "      <td>25</td>\n",
       "      <td>69</td>\n",
       "      <td>High</td>\n",
       "      <td>Medium</td>\n",
       "      <td>No</td>\n",
       "      <td>7</td>\n",
       "      <td>76</td>\n",
       "      <td>Medium</td>\n",
       "      <td>Yes</td>\n",
       "      <td>1</td>\n",
       "      <td>High</td>\n",
       "      <td>Medium</td>\n",
       "      <td>Public</td>\n",
       "      <td>Positive</td>\n",
       "      <td>2</td>\n",
       "      <td>No</td>\n",
       "      <td>High School</td>\n",
       "      <td>Near</td>\n",
       "      <td>Female</td>\n",
       "      <td>68</td>\n",
       "    </tr>\n",
       "    <tr>\n",
       "      <th>6603</th>\n",
       "      <td>23</td>\n",
       "      <td>76</td>\n",
       "      <td>High</td>\n",
       "      <td>Medium</td>\n",
       "      <td>No</td>\n",
       "      <td>8</td>\n",
       "      <td>81</td>\n",
       "      <td>Medium</td>\n",
       "      <td>Yes</td>\n",
       "      <td>3</td>\n",
       "      <td>Low</td>\n",
       "      <td>High</td>\n",
       "      <td>Public</td>\n",
       "      <td>Positive</td>\n",
       "      <td>2</td>\n",
       "      <td>No</td>\n",
       "      <td>High School</td>\n",
       "      <td>Near</td>\n",
       "      <td>Female</td>\n",
       "      <td>69</td>\n",
       "    </tr>\n",
       "    <tr>\n",
       "      <th>6604</th>\n",
       "      <td>20</td>\n",
       "      <td>90</td>\n",
       "      <td>Medium</td>\n",
       "      <td>Low</td>\n",
       "      <td>Yes</td>\n",
       "      <td>6</td>\n",
       "      <td>65</td>\n",
       "      <td>Low</td>\n",
       "      <td>Yes</td>\n",
       "      <td>3</td>\n",
       "      <td>Low</td>\n",
       "      <td>Medium</td>\n",
       "      <td>Public</td>\n",
       "      <td>Negative</td>\n",
       "      <td>2</td>\n",
       "      <td>No</td>\n",
       "      <td>Postgraduate</td>\n",
       "      <td>Near</td>\n",
       "      <td>Female</td>\n",
       "      <td>68</td>\n",
       "    </tr>\n",
       "    <tr>\n",
       "      <th>6605</th>\n",
       "      <td>10</td>\n",
       "      <td>86</td>\n",
       "      <td>High</td>\n",
       "      <td>High</td>\n",
       "      <td>Yes</td>\n",
       "      <td>6</td>\n",
       "      <td>91</td>\n",
       "      <td>High</td>\n",
       "      <td>Yes</td>\n",
       "      <td>2</td>\n",
       "      <td>Low</td>\n",
       "      <td>Medium</td>\n",
       "      <td>Private</td>\n",
       "      <td>Positive</td>\n",
       "      <td>3</td>\n",
       "      <td>No</td>\n",
       "      <td>High School</td>\n",
       "      <td>Far</td>\n",
       "      <td>Female</td>\n",
       "      <td>68</td>\n",
       "    </tr>\n",
       "    <tr>\n",
       "      <th>6606</th>\n",
       "      <td>15</td>\n",
       "      <td>67</td>\n",
       "      <td>Medium</td>\n",
       "      <td>Low</td>\n",
       "      <td>Yes</td>\n",
       "      <td>9</td>\n",
       "      <td>94</td>\n",
       "      <td>Medium</td>\n",
       "      <td>Yes</td>\n",
       "      <td>0</td>\n",
       "      <td>Medium</td>\n",
       "      <td>Medium</td>\n",
       "      <td>Public</td>\n",
       "      <td>Positive</td>\n",
       "      <td>4</td>\n",
       "      <td>No</td>\n",
       "      <td>Postgraduate</td>\n",
       "      <td>Near</td>\n",
       "      <td>Male</td>\n",
       "      <td>64</td>\n",
       "    </tr>\n",
       "  </tbody>\n",
       "</table>\n",
       "<p>6607 rows × 20 columns</p>\n",
       "</div>"
      ],
      "text/plain": [
       "      Hours_Studied  Attendance Parental_Involvement Access_to_Resources  \\\n",
       "0                23          84                  Low                High   \n",
       "1                19          64                  Low              Medium   \n",
       "2                24          98               Medium              Medium   \n",
       "3                29          89                  Low              Medium   \n",
       "4                19          92               Medium              Medium   \n",
       "...             ...         ...                  ...                 ...   \n",
       "6602             25          69                 High              Medium   \n",
       "6603             23          76                 High              Medium   \n",
       "6604             20          90               Medium                 Low   \n",
       "6605             10          86                 High                High   \n",
       "6606             15          67               Medium                 Low   \n",
       "\n",
       "     Extracurricular_Activities  Sleep_Hours  Previous_Scores  \\\n",
       "0                            No            7               73   \n",
       "1                            No            8               59   \n",
       "2                           Yes            7               91   \n",
       "3                           Yes            8               98   \n",
       "4                           Yes            6               65   \n",
       "...                         ...          ...              ...   \n",
       "6602                         No            7               76   \n",
       "6603                         No            8               81   \n",
       "6604                        Yes            6               65   \n",
       "6605                        Yes            6               91   \n",
       "6606                        Yes            9               94   \n",
       "\n",
       "     Motivation_Level Internet_Access  Tutoring_Sessions Family_Income  \\\n",
       "0                 Low             Yes                  0           Low   \n",
       "1                 Low             Yes                  2        Medium   \n",
       "2              Medium             Yes                  2        Medium   \n",
       "3              Medium             Yes                  1        Medium   \n",
       "4              Medium             Yes                  3        Medium   \n",
       "...               ...             ...                ...           ...   \n",
       "6602           Medium             Yes                  1          High   \n",
       "6603           Medium             Yes                  3           Low   \n",
       "6604              Low             Yes                  3           Low   \n",
       "6605             High             Yes                  2           Low   \n",
       "6606           Medium             Yes                  0        Medium   \n",
       "\n",
       "     Teacher_Quality School_Type Peer_Influence  Physical_Activity  \\\n",
       "0             Medium      Public       Positive                  3   \n",
       "1             Medium      Public       Negative                  4   \n",
       "2             Medium      Public        Neutral                  4   \n",
       "3             Medium      Public       Negative                  4   \n",
       "4               High      Public        Neutral                  4   \n",
       "...              ...         ...            ...                ...   \n",
       "6602          Medium      Public       Positive                  2   \n",
       "6603            High      Public       Positive                  2   \n",
       "6604          Medium      Public       Negative                  2   \n",
       "6605          Medium     Private       Positive                  3   \n",
       "6606          Medium      Public       Positive                  4   \n",
       "\n",
       "     Learning_Disabilities Parental_Education_Level Distance_from_Home  \\\n",
       "0                       No              High School               Near   \n",
       "1                       No                  College           Moderate   \n",
       "2                       No             Postgraduate               Near   \n",
       "3                       No              High School           Moderate   \n",
       "4                       No                  College               Near   \n",
       "...                    ...                      ...                ...   \n",
       "6602                    No              High School               Near   \n",
       "6603                    No              High School               Near   \n",
       "6604                    No             Postgraduate               Near   \n",
       "6605                    No              High School                Far   \n",
       "6606                    No             Postgraduate               Near   \n",
       "\n",
       "      Gender  Exam_Score  \n",
       "0       Male          67  \n",
       "1     Female          61  \n",
       "2       Male          74  \n",
       "3       Male          71  \n",
       "4     Female          70  \n",
       "...      ...         ...  \n",
       "6602  Female          68  \n",
       "6603  Female          69  \n",
       "6604  Female          68  \n",
       "6605  Female          68  \n",
       "6606    Male          64  \n",
       "\n",
       "[6607 rows x 20 columns]"
      ]
     },
     "execution_count": 2,
     "metadata": {},
     "output_type": "execute_result"
    }
   ],
   "source": [
    "## leer el conjunto de datos\n",
    "url = 'https://raw.githubusercontent.com/hamlel/Introduccion-ciencia-de-datos/refs/heads/main/Clases/Datos/StudentPerformanceFactors.csv'\n",
    "df = pd.read_csv(url)\n",
    "df"
   ]
  },
  {
   "cell_type": "markdown",
   "id": "df4fe398-99f7-4997-b4f7-c88e4a9ef14f",
   "metadata": {},
   "source": [
    "# Limpieza de datos"
   ]
  },
  {
   "cell_type": "markdown",
   "id": "69867216-fc4e-4f8c-a922-f682cfb366eb",
   "metadata": {},
   "source": [
    "Calculamos los valores perdidos NA y se identifica que las variables de Teacher Quality, Prental Education Level, y Distance from Home presentan valores perdidos."
   ]
  },
  {
   "cell_type": "code",
   "execution_count": 3,
   "id": "d53c7b80-9494-4595-a32f-0fcfccf62176",
   "metadata": {},
   "outputs": [
    {
     "data": {
      "text/plain": [
       "Hours_Studied                  0\n",
       "Attendance                     0\n",
       "Parental_Involvement           0\n",
       "Access_to_Resources            0\n",
       "Extracurricular_Activities     0\n",
       "Sleep_Hours                    0\n",
       "Previous_Scores                0\n",
       "Motivation_Level               0\n",
       "Internet_Access                0\n",
       "Tutoring_Sessions              0\n",
       "Family_Income                  0\n",
       "Teacher_Quality               78\n",
       "School_Type                    0\n",
       "Peer_Influence                 0\n",
       "Physical_Activity              0\n",
       "Learning_Disabilities          0\n",
       "Parental_Education_Level      90\n",
       "Distance_from_Home            67\n",
       "Gender                         0\n",
       "Exam_Score                     0\n",
       "dtype: int64"
      ]
     },
     "execution_count": 3,
     "metadata": {},
     "output_type": "execute_result"
    }
   ],
   "source": [
    "df.isnull().sum()# calculamos los valores perdidos"
   ]
  },
  {
   "cell_type": "code",
   "execution_count": 4,
   "id": "29bc2788-9ae8-4557-9941-7b64ba9d43b2",
   "metadata": {},
   "outputs": [
    {
     "data": {
      "text/plain": [
       "Hours_Studied                 0\n",
       "Attendance                    0\n",
       "Parental_Involvement          0\n",
       "Access_to_Resources           0\n",
       "Extracurricular_Activities    0\n",
       "Sleep_Hours                   0\n",
       "Previous_Scores               0\n",
       "Motivation_Level              0\n",
       "Internet_Access               0\n",
       "Tutoring_Sessions             0\n",
       "Family_Income                 0\n",
       "Teacher_Quality               0\n",
       "School_Type                   0\n",
       "Peer_Influence                0\n",
       "Physical_Activity             0\n",
       "Learning_Disabilities         0\n",
       "Parental_Education_Level      0\n",
       "Distance_from_Home            0\n",
       "Gender                        0\n",
       "Exam_Score                    0\n",
       "dtype: int64"
      ]
     },
     "execution_count": 4,
     "metadata": {},
     "output_type": "execute_result"
    }
   ],
   "source": [
    "df = df.dropna()# eliminamos los valores perdidos para no presentar errores en el analisis\n",
    "df.isnull().sum()"
   ]
  },
  {
   "cell_type": "code",
   "execution_count": 5,
   "id": "472fa633-9842-412e-a66a-6c78ad2bf91b",
   "metadata": {},
   "outputs": [
    {
     "name": "stdout",
     "output_type": "stream",
     "text": [
      "<class 'pandas.core.frame.DataFrame'>\n",
      "Index: 6378 entries, 0 to 6606\n",
      "Data columns (total 20 columns):\n",
      " #   Column                      Non-Null Count  Dtype \n",
      "---  ------                      --------------  ----- \n",
      " 0   Hours_Studied               6378 non-null   int64 \n",
      " 1   Attendance                  6378 non-null   int64 \n",
      " 2   Parental_Involvement        6378 non-null   object\n",
      " 3   Access_to_Resources         6378 non-null   object\n",
      " 4   Extracurricular_Activities  6378 non-null   object\n",
      " 5   Sleep_Hours                 6378 non-null   int64 \n",
      " 6   Previous_Scores             6378 non-null   int64 \n",
      " 7   Motivation_Level            6378 non-null   object\n",
      " 8   Internet_Access             6378 non-null   object\n",
      " 9   Tutoring_Sessions           6378 non-null   int64 \n",
      " 10  Family_Income               6378 non-null   object\n",
      " 11  Teacher_Quality             6378 non-null   object\n",
      " 12  School_Type                 6378 non-null   object\n",
      " 13  Peer_Influence              6378 non-null   object\n",
      " 14  Physical_Activity           6378 non-null   int64 \n",
      " 15  Learning_Disabilities       6378 non-null   object\n",
      " 16  Parental_Education_Level    6378 non-null   object\n",
      " 17  Distance_from_Home          6378 non-null   object\n",
      " 18  Gender                      6378 non-null   object\n",
      " 19  Exam_Score                  6378 non-null   int64 \n",
      "dtypes: int64(7), object(13)\n",
      "memory usage: 1.0+ MB\n"
     ]
    }
   ],
   "source": [
    "df.info() # en este apartado se identifican los tipos de datos del conjunto de datos. "
   ]
  },
  {
   "cell_type": "markdown",
   "id": "01cd514a-9f04-470c-aaf1-33a2baba9bdf",
   "metadata": {},
   "source": [
    "Se presentan las estadísticas descriptivas de las variables númericas, podemos identificar que el tiempo de horas promedio es de 7 horas y que el promedio de puntuación en el examen es de 67 puntos sobre 100."
   ]
  },
  {
   "cell_type": "code",
   "execution_count": 6,
   "id": "c6c877a5-26d1-4a73-bcc9-e9caf1e62af8",
   "metadata": {},
   "outputs": [
    {
     "data": {
      "text/html": [
       "<div>\n",
       "<style scoped>\n",
       "    .dataframe tbody tr th:only-of-type {\n",
       "        vertical-align: middle;\n",
       "    }\n",
       "\n",
       "    .dataframe tbody tr th {\n",
       "        vertical-align: top;\n",
       "    }\n",
       "\n",
       "    .dataframe thead th {\n",
       "        text-align: right;\n",
       "    }\n",
       "</style>\n",
       "<table border=\"1\" class=\"dataframe\">\n",
       "  <thead>\n",
       "    <tr style=\"text-align: right;\">\n",
       "      <th></th>\n",
       "      <th>count</th>\n",
       "      <th>mean</th>\n",
       "      <th>std</th>\n",
       "      <th>min</th>\n",
       "      <th>25%</th>\n",
       "      <th>50%</th>\n",
       "      <th>75%</th>\n",
       "      <th>max</th>\n",
       "    </tr>\n",
       "  </thead>\n",
       "  <tbody>\n",
       "    <tr>\n",
       "      <th>Hours_Studied</th>\n",
       "      <td>6378.0</td>\n",
       "      <td>19.977109</td>\n",
       "      <td>5.985460</td>\n",
       "      <td>1.0</td>\n",
       "      <td>16.0</td>\n",
       "      <td>20.0</td>\n",
       "      <td>24.0</td>\n",
       "      <td>44.0</td>\n",
       "    </tr>\n",
       "    <tr>\n",
       "      <th>Attendance</th>\n",
       "      <td>6378.0</td>\n",
       "      <td>80.020853</td>\n",
       "      <td>11.550723</td>\n",
       "      <td>60.0</td>\n",
       "      <td>70.0</td>\n",
       "      <td>80.0</td>\n",
       "      <td>90.0</td>\n",
       "      <td>100.0</td>\n",
       "    </tr>\n",
       "    <tr>\n",
       "      <th>Sleep_Hours</th>\n",
       "      <td>6378.0</td>\n",
       "      <td>7.034964</td>\n",
       "      <td>1.468033</td>\n",
       "      <td>4.0</td>\n",
       "      <td>6.0</td>\n",
       "      <td>7.0</td>\n",
       "      <td>8.0</td>\n",
       "      <td>10.0</td>\n",
       "    </tr>\n",
       "    <tr>\n",
       "      <th>Previous_Scores</th>\n",
       "      <td>6378.0</td>\n",
       "      <td>75.066165</td>\n",
       "      <td>14.400389</td>\n",
       "      <td>50.0</td>\n",
       "      <td>63.0</td>\n",
       "      <td>75.0</td>\n",
       "      <td>88.0</td>\n",
       "      <td>100.0</td>\n",
       "    </tr>\n",
       "    <tr>\n",
       "      <th>Tutoring_Sessions</th>\n",
       "      <td>6378.0</td>\n",
       "      <td>1.495296</td>\n",
       "      <td>1.233984</td>\n",
       "      <td>0.0</td>\n",
       "      <td>1.0</td>\n",
       "      <td>1.0</td>\n",
       "      <td>2.0</td>\n",
       "      <td>8.0</td>\n",
       "    </tr>\n",
       "    <tr>\n",
       "      <th>Physical_Activity</th>\n",
       "      <td>6378.0</td>\n",
       "      <td>2.972719</td>\n",
       "      <td>1.028926</td>\n",
       "      <td>0.0</td>\n",
       "      <td>2.0</td>\n",
       "      <td>3.0</td>\n",
       "      <td>4.0</td>\n",
       "      <td>6.0</td>\n",
       "    </tr>\n",
       "    <tr>\n",
       "      <th>Exam_Score</th>\n",
       "      <td>6378.0</td>\n",
       "      <td>67.252117</td>\n",
       "      <td>3.914217</td>\n",
       "      <td>55.0</td>\n",
       "      <td>65.0</td>\n",
       "      <td>67.0</td>\n",
       "      <td>69.0</td>\n",
       "      <td>101.0</td>\n",
       "    </tr>\n",
       "  </tbody>\n",
       "</table>\n",
       "</div>"
      ],
      "text/plain": [
       "                    count       mean        std   min   25%   50%   75%    max\n",
       "Hours_Studied      6378.0  19.977109   5.985460   1.0  16.0  20.0  24.0   44.0\n",
       "Attendance         6378.0  80.020853  11.550723  60.0  70.0  80.0  90.0  100.0\n",
       "Sleep_Hours        6378.0   7.034964   1.468033   4.0   6.0   7.0   8.0   10.0\n",
       "Previous_Scores    6378.0  75.066165  14.400389  50.0  63.0  75.0  88.0  100.0\n",
       "Tutoring_Sessions  6378.0   1.495296   1.233984   0.0   1.0   1.0   2.0    8.0\n",
       "Physical_Activity  6378.0   2.972719   1.028926   0.0   2.0   3.0   4.0    6.0\n",
       "Exam_Score         6378.0  67.252117   3.914217  55.0  65.0  67.0  69.0  101.0"
      ]
     },
     "execution_count": 6,
     "metadata": {},
     "output_type": "execute_result"
    }
   ],
   "source": [
    "\n",
    "df.describe().T# estadísticas descriptivas de las variables númericas\n"
   ]
  },
  {
   "cell_type": "markdown",
   "id": "15151a25-68a5-46c3-b78c-58370bb355f7",
   "metadata": {},
   "source": [
    "### Gráficos exploratorios\n",
    "\n",
    "En este apartado podemos identificar que la variable de puntuación del examen presenta una distribución normal tambien es posible identificar que la mayoria de las puntuaciones de los estudiantes son menores a 80 sobre 100."
   ]
  },
  {
   "cell_type": "code",
   "execution_count": 7,
   "id": "64fa91a2-b110-4274-8b1d-4940e4cdaae2",
   "metadata": {},
   "outputs": [
    {
     "data": {
      "image/png": "[encoded data removed]",
      "text/plain": [
       "<Figure size 640x480 with 1 Axes>"
      ]
     },
     "metadata": {},
     "output_type": "display_data"
    }
   ],
   "source": [
    "df[['Exam_Score']].hist();"
   ]
  },
  {
   "cell_type": "markdown",
   "id": "08f82795-70ff-4645-b4b5-9e9f293a7e12",
   "metadata": {},
   "source": [
    " En los gráficos exploratorios se identifican que la participación de los padres, el acceso a recursos educativos, nivel de motivación, calidad de profesores predomina la categoria de medio de entre bajo, medio y alto. A su vez, la mayoria de los estudiantes: toman cursos extracurriculares, tienen acceso a internet, el ingreso de la mayoria de los padres es medio y alto, la mayoria de escuelas son públicas. Las puntuaciones en influencia de compañeros frente al desempeño academico es positiva y neutral, a su vez no presentan discapacidades de aprendizaje, la mayoria de los padres tienen nivel educativo de pregrado. Por ultimo, la mayoria de los estudiantes viven cerca de la escuela y se presenta una diferencia entre el número de estudiantes hombres y mujeres. "
   ]
  },
  {
   "cell_type": "code",
   "execution_count": null,
   "id": "9779735a-e6c3-42e1-a764-1d5670447659",
   "metadata": {},
   "outputs": [
    {
     "data": {
      "image/png": "[encoded data removed]",
      "text/plain": [
       "<Figure size 640x480 with 1 Axes>"
      ]
     },
     "metadata": {},
     "output_type": "display_data"
    },
    {
     "data": {
      "image/png": "[encoded data removed]",
      "text/plain": [
       "<Figure size 640x480 with 1 Axes>"
      ]
     },
     "metadata": {},
     "output_type": "display_data"
    },
    {
     "data": {
      "image/png": "[encoded data removed]",
      "text/plain": [
       "<Figure size 640x480 with 1 Axes>"
      ]
     },
     "metadata": {},
     "output_type": "display_data"
    },
    {
     "data": {
      "image/png": "[encoded data removed]",
      "text/plain": [
       "<Figure size 640x480 with 1 Axes>"
      ]
     },
     "metadata": {},
     "output_type": "display_data"
    },
    {
     "data": {
      "image/png": "[encoded data removed]",
      "text/plain": [
       "<Figure size 640x480 with 1 Axes>"
      ]
     },
     "metadata": {},
     "output_type": "display_data"
    }
   ],
   "source": [
    "for col in df:\n",
    "    if df[col].dtype == 'O':\n",
    "        sns.countplot(x=col,data=df)\n",
    "        plt.show()"
   ]
  },
  {
   "cell_type": "markdown",
   "id": "4814de30-e74d-41fa-8221-de27743d6827",
   "metadata": {},
   "source": [
    "En este apartado se realizan comparaciones bivariadas entre el desempeño del examen y diferentes variables, para el primer gráfico se comparan la distancia a la escuela de los estudiantes y la asistencia a clases. Sin embargo, a traves de los boxplots se identifica que no se presentan diferencias entre dichas variables. "
   ]
  },
  {
   "cell_type": "code",
   "execution_count": null,
   "id": "cb439877-28ff-4f9e-b79f-b74eb6bb61e2",
   "metadata": {},
   "outputs": [],
   "source": [
    "sns.boxplot(x=\"Distance_from_Home\",y=\"Attendance\", data=df)"
   ]
  },
  {
   "cell_type": "markdown",
   "id": "2907770d-9849-4abc-9da5-0f5a4ca3f742",
   "metadata": {},
   "source": [
    " En el siguiente gŕafico se presenta el comportamiento de las variables de horas de estudio y desempeño del examen final. En este grafico se puede identificar que de manera general se presenta una tendencia a mayor número de horas un mayor puntaje en el examen. Sin embargo, hay casos en donde se obtuvierón mejores resultados con un menor número de horas de estudio. "
   ]
  },
  {
   "cell_type": "code",
   "execution_count": null,
   "id": "39846156-3b10-4848-ad59-337bf9f6dd94",
   "metadata": {},
   "outputs": [],
   "source": [
    "plt.figure(figsize=(8,8))\n",
    "sns.lmplot(x='Hours_Studied', y=\"Exam_Score\", data = df)\n",
    "plt.show()"
   ]
  },
  {
   "cell_type": "markdown",
   "id": "4f6602f1-7bc3-470a-9f2b-1cdcca1c24b0",
   "metadata": {},
   "source": [
    "En el siguiente gráfico se analizan las variables de participación de los padres en la educación de sus hijos y la puntuación del examen final. De acuerdo a los gráficos de cajas se identifica que no se presentan diferencias entre los diferentes niveles de participación de los padres y el resultado final de examen de los estudiantes. A su vez se presentan algunos valores extremos para las tres categorias de niveles de participación de los padres. "
   ]
  },
  {
   "cell_type": "code",
   "execution_count": null,
   "id": "acbc7765-e7e4-48d1-b75f-2d4188cf20c0",
   "metadata": {},
   "outputs": [],
   "source": [
    "sns.boxplot(x='Parental_Involvement',y='Exam_Score', data=df)\n",
    "plt.title('Parental Involvement vs Exam Score')\n",
    "plt.show()"
   ]
  },
  {
   "cell_type": "markdown",
   "id": "3591826b-1669-4d13-ad94-70e44a61cc54",
   "metadata": {},
   "source": [
    "Para el siguiente gráfico se estudia las variables de ingreso familiar y puntuación final del examen, de acuerdo al gráfico que se presenta en la figura siguiente no se presentan evidencias de que haya un mejor desempeño en la puntuación final del examen y el nivel de ingreso de los padres."
   ]
  },
  {
   "cell_type": "code",
   "execution_count": null,
   "id": "807777ea-839f-4df6-8261-d874dd94bcee",
   "metadata": {},
   "outputs": [],
   "source": [
    "sns.violinplot(x='Family_Income', y='Exam_Score', data=df)\n",
    "plt.title('Family Income vs Exam Score')\n",
    "plt.show()"
   ]
  },
  {
   "cell_type": "markdown",
   "id": "12e1c4c9-49ba-4e7c-86ac-1da69cdec07a",
   "metadata": {},
   "source": [
    " En la figura siguiente se gráfica el género de lo estudiantes y el puntaje final de examen se puede identificar que no se presenta una diferencia entre el género y la puntuación final del examen. "
   ]
  },
  {
   "cell_type": "code",
   "execution_count": null,
   "id": "2eeaf7c8-91e6-4c8c-8227-56af962f0de0",
   "metadata": {},
   "outputs": [],
   "source": [
    "sns.barplot(x='Gender', y='Exam_Score', data =df)\n",
    "plt.title('Gender vs Exam Score')\n",
    "plt.show()"
   ]
  },
  {
   "cell_type": "markdown",
   "id": "c78c778d-baae-4148-b28c-e73e1998a5fb",
   "metadata": {},
   "source": [
    " En la siguiente figura se verifica la categorias de nivel educativo alcanzado por los padres en tre categorias y la puntuación del examen final, es de esta manera que no se presentan diferencias entre los diferentes niveles de eduación alcanzado por los padres y la puntuación final del examen de los estudiantes.A su vez se presentan valores extremos para las tres categorias de nviel educativo alcanzado por los padres y la puntuación final del examen de los estudiantes."
   ]
  },
  {
   "cell_type": "code",
   "execution_count": null,
   "id": "7d43fadc-943b-4a88-9d5b-1cc435093e75",
   "metadata": {},
   "outputs": [],
   "source": [
    "sns.boxplot(x='Parental_Education_Level', y='Exam_Score', data=df)\n",
    "plt.title('Parental Education Level vs Exam Score')\n",
    "plt.show()"
   ]
  },
  {
   "cell_type": "markdown",
   "id": "03190d79-8597-487c-9aa0-dc14de8031fc",
   "metadata": {},
   "source": [
    "En la siguiente figura se presenta la relación entre el número de horas de suenño y la puntuación final del examen, se podria identificar que se presentan mejores resultados para los estudiantes que contestaron dormir siete horas. SIn embargo, no se presentan una relación clara entre las diferentes puntuaciones del puntaje del examen."
   ]
  },
  {
   "cell_type": "code",
   "execution_count": null,
   "id": "5caf6959-cad1-4b43-84bf-5993eceb27df",
   "metadata": {},
   "outputs": [],
   "source": [
    "sns.lmplot(x='Sleep_Hours', y='Exam_Score', data=df)\n",
    "plt.title('Sleep Hours vs Exam Score')\n",
    "plt.show()"
   ]
  },
  {
   "cell_type": "markdown",
   "id": "b2d95cfb-ea3e-4a64-8478-d450db2e92f6",
   "metadata": {},
   "source": [
    "Por ultimo, se presenta la relación entre el puntaje del examen y la influencia de sus compañeros, en este apartado podemos identificar que no se presntan diferencias en promedio entre las diferentes categorias de influencia de sus compañeros y la puntación del examen final."
   ]
  },
  {
   "cell_type": "code",
   "execution_count": null,
   "id": "198f3229-0fca-48c2-9bd4-a8b43277f70b",
   "metadata": {},
   "outputs": [],
   "source": [
    "sns.violinplot(x='Peer_Influence', y='Exam_Score', data=df)\n",
    "plt.title('Peer Influence vs Exam Score')\n",
    "plt.show()"
   ]
  },
  {
   "cell_type": "markdown",
   "id": "7527d62f-2044-485e-927c-d1c61bd08009",
   "metadata": {},
   "source": [
    "Por ultimo se presenta una matriz de correlaciones entre las diferentes variables y de acuerdo a la matriz no se reportan correlaciones altas entre las variables. A su vez, las dos variables que presentan correlaciones marginalmente altas son las variables de horas de estudio y asistencia con el puntaje del examen. Por ultimo las otras variables presentan correlaciones muy bajas menores 0.1 "
   ]
  },
  {
   "cell_type": "code",
   "execution_count": null,
   "id": "8619b9bf-377f-4e49-8c35-b631a2c3ad92",
   "metadata": {},
   "outputs": [],
   "source": [
    "from sklearn.preprocessing import LabelEncoder\n",
    "\n",
    "categorical_columns = ['Parental_Involvement', 'Access_to_Resources', 'Extracurricular_Activities', \n",
    "                       'Motivation_Level', 'Internet_Access', 'Family_Income', 'Teacher_Quality', \n",
    "                       'School_Type', 'Peer_Influence', 'Learning_Disabilities', \n",
    "                       'Parental_Education_Level', 'Distance_from_Home', 'Gender']\n",
    "\n",
    "label_encoders = {}\n",
    "for column in categorical_columns:\n",
    "    le = LabelEncoder()\n",
    "    df[column] = le.fit_transform(df[column])\n",
    "    label_encoders[column] = le\n",
    "\n",
    "\n",
    "plt.figure(figsize=(16, 12))\n",
    "correlation_matrix = df.corr()\n",
    "sns.heatmap(correlation_matrix, annot=True, cmap='coolwarm', linewidths=0.5)\n",
    "plt.show()"
   ]
  },
  {
   "cell_type": "markdown",
   "id": "81af28cb-e1fd-4870-8ed9-b8a7fb7c8cfe",
   "metadata": {},
   "source": [
    "# Limpieza de datos\n",
    "\n",
    "En este apartado se seleccionan las variables que son numéricas para proceder a aplicar métodos de reducción de dimensionalidad. Asi tambien, se categoriza la variable de puntuación del examen en tres categorias, las cuales sonbajo para menor a 70, medio para menor a 80 y alto para puntajes mayor a 80. "
   ]
  },
  {
   "cell_type": "code",
   "execution_count": null,
   "id": "4b61888b-2508-4a6a-bcdc-f48c3e03f7c4",
   "metadata": {},
   "outputs": [],
   "source": [
    "df['categoria'] = np.where(df['Exam_Score'] <= 70, 'bajo',\n",
    "                           np.where(df['Exam_Score'] <= 80, 'medio', 'alto'))\n",
    "df"
   ]
  },
  {
   "cell_type": "markdown",
   "id": "a1a44ebf-12ad-49ec-8724-c8271a6d4503",
   "metadata": {},
   "source": [
    " Por ultimo se identifica el número de registros para cada categoria creada para el caso de categoria de puntaje del examen alto son 43 registros, para la categoria de medio se identifican 1012 registros y por ultimo para la categoria de puntuación bajo se presentan 5323 registros."
   ]
  },
  {
   "cell_type": "code",
   "execution_count": null,
   "id": "575a633c-a981-42d1-99fa-cb57478d1e01",
   "metadata": {
    "scrolled": true
   },
   "outputs": [],
   "source": [
    "a = df.groupby('categoria')\n",
    "a.count()"
   ]
  },
  {
   "cell_type": "markdown",
   "id": "cb35643c-634d-48e2-ad91-84f1aa414afe",
   "metadata": {},
   "source": [
    "# Reducción de Dimensionalidad\n",
    "En este apartado se aplican métodos de reducción de dimensionalidad se seleccionan las variables númericas para realizar la descomposición de valores singulares."
   ]
  },
  {
   "cell_type": "markdown",
   "id": "3f44a0fd-d750-4952-bb1a-38f84e0310c7",
   "metadata": {},
   "source": [
    "## Analisis de Componentes Principales"
   ]
  },
  {
   "cell_type": "code",
   "execution_count": null,
   "id": "0f69d520-582b-4208-a3c6-a73ca8fbead6",
   "metadata": {},
   "outputs": [],
   "source": [
    "import pandas as pd\n",
    "X = df[['Hours_Studied','Attendance','Sleep_Hours','Previous_Scores','Tutoring_Sessions','Physical_Activity']]\n",
    "y= df.categoria\n",
    "y"
   ]
  },
  {
   "cell_type": "code",
   "execution_count": null,
   "id": "5900cb1d-7eca-49b6-a836-7d660528b3df",
   "metadata": {},
   "outputs": [],
   "source": [
    "from sklearn.preprocessing import StandardScaler # se cargan las librerias necesarias\n",
    "X = StandardScaler().fit_transform(X) # se estandarizan los datos para obtener mejor desempeño de las técnicas de reducción de dimensionalidad"
   ]
  },
  {
   "cell_type": "markdown",
   "id": "a302f6e2-20a9-4c50-9606-44daacf3fbf4",
   "metadata": {},
   "source": [
    " En este apartado se calcula la matriz de covarianza. "
   ]
  },
  {
   "cell_type": "code",
   "execution_count": null,
   "id": "ba975175-bca7-41fe-9108-cbaebcfa193f",
   "metadata": {},
   "outputs": [],
   "source": [
    "import numpy as np \n",
    "\n",
    "X_mean = np.mean(X, axis=0)\n",
    "# cov_mat = np.cov(X)\n",
    "cov_mat = (X - X_mean).T.dot((X - X_mean)) / (X.shape[0]-1)\n",
    "print('Covariance matrix \\n%s' %cov_mat)"
   ]
  },
  {
   "cell_type": "markdown",
   "id": "140f26d5-f597-4991-9da6-be985a9b694e",
   "metadata": {},
   "source": [
    "Se realizan las operaciones y se obtienen los valores y vectores singulares de la matriz de covarianza."
   ]
  },
  {
   "cell_type": "code",
   "execution_count": null,
   "id": "e5a1cae5-ca07-43e9-b3a8-e821c150a922",
   "metadata": {},
   "outputs": [],
   "source": [
    "eig_vals, eig_vecs = np.linalg.eig(cov_mat)\n",
    "\n",
    "print('Eigenvectors \\n%s' %eig_vecs)\n",
    "print('\\nEigenvalues \\n%s' %eig_vals)"
   ]
  },
  {
   "cell_type": "code",
   "execution_count": null,
   "id": "7d590eef-deb1-4dbc-a743-020d86163af2",
   "metadata": {},
   "outputs": [],
   "source": [
    "u,s,v = np.linalg.svd(X.T)\n",
    "u"
   ]
  },
  {
   "cell_type": "markdown",
   "id": "7fc8b733-d33b-4ad0-8a70-89432f829988",
   "metadata": {},
   "source": [
    " Por ultimo, se ordenan los eigenvalores en orden descendente que corresponden a los valores de los componentes principales."
   ]
  },
  {
   "cell_type": "code",
   "execution_count": null,
   "id": "9f0e1690-5eaa-49fa-a709-8a9edf4a6a2b",
   "metadata": {},
   "outputs": [],
   "source": [
    "# Make a list of (eigenvalue, eigenvector) tuples\n",
    "eig_pairs = [(np.abs(eig_vals[i]), eig_vecs[:,i]) for i in range(len(eig_vals))]\n",
    "\n",
    "# Sort the (eigenvalue, eigenvector) tuples from high to low\n",
    "eig_pairs.sort(key=lambda x: x[0], reverse=True)\n",
    "\n",
    "# Visually confirm that the list is correctly sorted by decreasing eigenvalues\n",
    "print('Eigenvalues in descending order:')\n",
    "for i in eig_pairs:\n",
    "    print(i[0])"
   ]
  },
  {
   "cell_type": "markdown",
   "id": "e4eec173-00f3-49c2-978f-a42a3bca5c5e",
   "metadata": {},
   "source": [
    "En el siguiente apartado se calcula la varianza acumulada y la varianza explicada para los primeros dos componentes principales que poseen la mayor cantidad de varianza explicada.\n",
    "Para este caso los componentes explican un total de 17 + 34 = 51% de información recuperada a traves de la reducción de dimensionalidad."
   ]
  },
  {
   "cell_type": "code",
   "execution_count": null,
   "id": "b6692323-3cca-4473-a573-59ecaab5efe3",
   "metadata": {},
   "outputs": [],
   "source": [
    "tot = sum(eig_vals)\n",
    "var_exp = [(i / tot)*100 for i in sorted(eig_vals, reverse=True)]\n",
    "cum_var_exp = np.cumsum(var_exp)\n",
    "cum_var_exp"
   ]
  },
  {
   "cell_type": "code",
   "execution_count": null,
   "id": "986426c3-138c-4554-b28c-90e078fced1c",
   "metadata": {},
   "outputs": [],
   "source": [
    "matrix_w = np.hstack((eig_pairs[0][1].reshape(6,1),\n",
    "                      eig_pairs[1][1].reshape(6,1)))\n",
    "\n",
    "print('Matrix W:\\n', matrix_w)"
   ]
  },
  {
   "cell_type": "code",
   "execution_count": null,
   "id": "20742510-d417-4cf2-a9dd-54c2107fb46e",
   "metadata": {},
   "outputs": [],
   "source": [
    "Y = X.dot(matrix_w)\n",
    "Y"
   ]
  },
  {
   "cell_type": "code",
   "execution_count": null,
   "id": "c9cd800b-c8e6-4994-a315-acaff543753f",
   "metadata": {},
   "outputs": [],
   "source": [
    "#from matplotlib import style;\n",
    "#print(plt.style.available);"
   ]
  },
  {
   "cell_type": "markdown",
   "id": "29e79f5b-e6a3-4f99-88e0-03f46a25f8a5",
   "metadata": {},
   "source": [
    "En el siguiente gráfico se presenta el gráfico de reducción de dimensionalidad via PCA sin embargo se identífica que no se para bien las diferentes categorias de los puntajes de los estudiantes. Los puntos rojos indican la categoria baja, los azules indican el puntaje medio y los verdes indican los puntajes altos. Sin embargo el analisis de componentes princiapales no presenta resultados satisfactorios. "
   ]
  },
  {
   "cell_type": "code",
   "execution_count": null,
   "id": "839b640d-babd-4bfd-a675-b1b3e6efb10a",
   "metadata": {},
   "outputs": [],
   "source": [
    "import matplotlib.pyplot as plt\n",
    "with plt.style.context('seaborn-v0_8-whitegrid'):\n",
    "    plt.figure(figsize=(6, 4))\n",
    "    for lab, col in zip(('bajo','medio','alto'), ('red', 'blue','green')):\n",
    "        plt.scatter(Y[y==lab, 0], Y[y==lab, 1], label=lab, c=col)\n",
    "    plt.xlabel('Principal Component 1')\n",
    "    plt.ylabel('Principal Component 2')\n",
    "    plt.legend(loc='lower center')\n",
    "    plt.tight_layout()\n",
    "    plt.show()"
   ]
  },
  {
   "cell_type": "markdown",
   "id": "e24f2802-67ef-4a3b-b304-bc17f0711fd6",
   "metadata": {},
   "source": [
    "# Analisis Discriminante Lineal"
   ]
  },
  {
   "cell_type": "markdown",
   "id": "2fa70563-f730-4de4-880f-a6d706f8be71",
   "metadata": {},
   "source": [
    "En el siguiente apartado se realiza el analisis de discriminante lineal "
   ]
  },
  {
   "cell_type": "code",
   "execution_count": null,
   "id": "fb0d9515-5368-40a4-a281-7720c4c2fa55",
   "metadata": {},
   "outputs": [],
   "source": [
    "from sklearn.decomposition import PCA\n",
    "from sklearn.discriminant_analysis import LinearDiscriminantAnalysis as LDA\n",
    "from sklearn.manifold import TSNE\n",
    "from umap import UMAP\n"
   ]
  },
  {
   "cell_type": "code",
   "execution_count": null,
   "id": "a30abb7e-0a11-4caf-8db5-c6c3d614d3e4",
   "metadata": {},
   "outputs": [],
   "source": [
    "import numpy as np\n",
    "import pandas as pd\n",
    "import matplotlib.pyplot as plt\n",
    "import seaborn as sns\n",
    "from sklearn.preprocessing import LabelEncoder\n",
    "from sklearn.model_selection import train_test_split\n",
    "from sklearn.discriminant_analysis import LinearDiscriminantAnalysis\n",
    "from sklearn.ensemble import RandomForestClassifier\n",
    "from sklearn.metrics import accuracy_score, confusion_matrix\n",
    "\n",
    "\n",
    "X = df[['Hours_Studied','Attendance','Sleep_Hours','Previous_Scores','Tutoring_Sessions','Physical_Activity']]\n",
    "y= df.categoria\n",
    "y\n",
    "# Encode the target variable\n",
    "le = LabelEncoder()\n",
    "y = le.fit_transform(y)\n"
   ]
  },
  {
   "cell_type": "code",
   "execution_count": null,
   "id": "34e7ac91-ef1e-4859-ad76-3445152be795",
   "metadata": {},
   "outputs": [],
   "source": [
    "# Split the data set into training and testing sets\n",
    "X_train, X_test, y_train, y_test = train_test_split(X, y, test_size=0.2)"
   ]
  },
  {
   "cell_type": "code",
   "execution_count": null,
   "id": "a1b12b8e-cadb-4c53-8ccd-073c1ead907c",
   "metadata": {},
   "outputs": [],
   "source": [
    "# Apply Linear Discriminant Analysis\n",
    "lda = LinearDiscriminantAnalysis(n_components=2)\n",
    "X_train = lda.fit_transform(X_train, y_train)\n",
    "X_test = lda.transform(X_test)"
   ]
  },
  {
   "cell_type": "markdown",
   "id": "75669650-66a2-4ab0-a052-9a9ca2d86ee6",
   "metadata": {},
   "source": [
    "Para los resultados del analisis de discriminante lineal se obtiene una mejor separación entre las dos primeras clases sin embargo para la tercera clase que es la que tiene menos registros no se obtiene una diferenciación clara."
   ]
  },
  {
   "cell_type": "code",
   "execution_count": null,
   "id": "26563cc5-f14a-4528-b1b2-e5ef2774f0c6",
   "metadata": {},
   "outputs": [],
   "source": [
    "tmp_Df = pd.DataFrame(X_train, columns=['LDA Component 1','LDA Component 2'])\n",
    "tmp_Df['categoria']=y_train\n",
    "\n",
    "sns.FacetGrid(tmp_Df, hue =\"categoria\",\n",
    "              height = 6).map(plt.scatter,\n",
    "                              'LDA Component 1',\n",
    "                              'LDA Component 2')\n",
    "\n",
    "plt.legend(loc='upper right')\n"
   ]
  },
  {
   "cell_type": "markdown",
   "id": "38a8148d-6016-431d-b5a4-26807421e4cd",
   "metadata": {},
   "source": [
    "# T-SNE\n",
    "\n",
    " Posteriormente se aplico el algoritmo T-Sne, sin embargo tampoco presenta muy buen desempeño al identificar las clases. "
   ]
  },
  {
   "cell_type": "code",
   "execution_count": null,
   "id": "71dfbf57-069b-4e99-b3a0-dbff310ee13f",
   "metadata": {},
   "outputs": [],
   "source": [
    "X_TSNE = TSNE(n_components=2).fit_transform(X)\n",
    "\n",
    "scatter = plt.scatter(X_TSNE[:,0], X_TSNE[:,1], c=y)\n",
    "plt.title('t-SNE plot in 2D')\n",
    "plt.xlabel('Component 1')\n",
    "plt.ylabel('Component 2')\n",
    "plt.legend(*scatter.legend_elements())\n",
    "plt.show()"
   ]
  },
  {
   "cell_type": "markdown",
   "id": "e9778cc9-4823-4e45-b425-8d01289dd17b",
   "metadata": {},
   "source": [
    "# UMAP \n",
    "\n",
    "Por ultimo para el metodo UMAP diferencia dos clases de manera mas eficiente que el analisis de discriminante lineal, sin embargo para la tercera clase no logra diferenciarlo de manera consistente."
   ]
  },
  {
   "cell_type": "code",
   "execution_count": null,
   "id": "84a5d724-288d-42f9-8eae-b41dc1600bb2",
   "metadata": {},
   "outputs": [],
   "source": [
    "X_UMAP = UMAP(n_components=2).fit_transform(X, y)\n",
    "\n",
    "scatter = plt.scatter(X_UMAP[:,0], X_UMAP[:,1], c=y)\n",
    "plt.title('UMAP plot in 2D')\n",
    "plt.xlabel('Component 1')\n",
    "plt.ylabel('Component 2')\n",
    "plt.legend(*scatter.legend_elements())\n",
    "plt.show()"
   ]
  },
  {
   "cell_type": "markdown",
   "id": "9939009a-98fb-4447-9d1e-ce1b72da6d6c",
   "metadata": {},
   "source": [
    "# Selección de caracteristicas\n",
    "\n",
    " En este apartado desarrollamos métodos de selección de caracteristicas, primero excluimos del analisis la variable de respuesta. "
   ]
  },
  {
   "cell_type": "code",
   "execution_count": null,
   "id": "d4fa1301-ad78-40ce-afc9-95d82c5b8040",
   "metadata": {},
   "outputs": [],
   "source": [
    "df = df.drop ('Exam_Score', axis = 1)"
   ]
  },
  {
   "cell_type": "code",
   "execution_count": null,
   "id": "eb9fc7b5-1afe-4ba6-976e-29f36a903d0d",
   "metadata": {},
   "outputs": [],
   "source": [
    "X = df.iloc[:, 0:-1]\n",
    "y = df.iloc[:, -1]\n",
    "y"
   ]
  },
  {
   "cell_type": "code",
   "execution_count": null,
   "id": "f49c7c0a-85e2-489d-9364-2f01d89d94b3",
   "metadata": {},
   "outputs": [],
   "source": [
    "# if necessary\n",
    "replace_dict = {'bajo': '0', 'medio': '1', 'alto':'2'}\n",
    "y2 = y.replace(replace_dict)\n",
    "\n",
    "df2 = df.replace(replace_dict)\n",
    "print(df2.head())"
   ]
  },
  {
   "cell_type": "markdown",
   "id": "9406bcbc-1e7c-441a-a375-85d74c41914e",
   "metadata": {},
   "source": [
    "## Info Gain\n",
    "\n",
    "En este apartado se aplica el método de ganancia de información que se basa en métodos no paramétricos basados en la estimación de a entropia. "
   ]
  },
  {
   "cell_type": "code",
   "execution_count": null,
   "id": "16fc811d-b598-4744-bf74-083be6993c2a",
   "metadata": {},
   "outputs": [],
   "source": [
    "import pandas as pd\n",
    "import seaborn as sns\n",
    "import matplotlib.pyplot as plt\n",
    "import time"
   ]
  },
  {
   "cell_type": "markdown",
   "id": "441b4c9d-5399-44f0-937b-0d9f8482e297",
   "metadata": {},
   "source": [
    "Para la técnica de ganancia de información las variables que obtienen un mayor puntaje son la asistencia y las horas de estudio, seguido del acceso a recursos educativos. Por otro lado, las variables que obtienen un valor muy cercano a cero fuerón género, distancia a la escuela, discapacidades de aprendizaje y actividad física."
   ]
  },
  {
   "cell_type": "code",
   "execution_count": null,
   "id": "dd826f35-0a44-4b9b-8b79-25ee5d79f9fd",
   "metadata": {},
   "outputs": [],
   "source": [
    "from sklearn.feature_selection import mutual_info_classif\n",
    "\n",
    "# start time\n",
    "start_time_forward = time.time()\n",
    "\n",
    "### Applying feature selection method\n",
    "X_new = mutual_info_classif(X, y)\n",
    "\n",
    "# end time\n",
    "end_time_forward = time.time()\n",
    "time_forward = end_time_forward - start_time_forward\n",
    "\n",
    "# plot feature selection\n",
    "feat_imp = pd.Series(X_new, df.columns[0:len(df.columns)-1])\n",
    "feat_imp.plot(kind='barh')\n",
    "plt.show()\n",
    "\n",
    "# show elapsed time of this method\n",
    "print(f\"Execution time: {time_forward:.2f} seconds\")"
   ]
  },
  {
   "cell_type": "markdown",
   "id": "a2bb0cc9-b7f1-4269-972b-f6d817bf4093",
   "metadata": {},
   "source": [
    "## Umbral de baja varianza\n",
    "\n",
    " Este método elimina todas aquellas variables que no cumplen con un umbral de varianza, para nuestro conjunto de datos, seleccionamos un treshold de 5 el cual es bastante alto retomando la tabla del analisis descriptivo mostrado anteriormente donde la mayoria de nuestras variables tienen desviaciones estandar menores a 3 en la mayoria de los casos. \n",
    "\n",
    "Seleccionando ese treshold se obtuvierón las siguientes variables horas de estudio, asistencia, horas de sueño y puntuación previa como variables reelevantes que podrian estar influyendo en el resultado de la puntuación final del examen."
   ]
  },
  {
   "cell_type": "code",
   "execution_count": null,
   "id": "cbb37b43-8711-4d56-8ba0-57eb1c1f86e5",
   "metadata": {},
   "outputs": [],
   "source": [
    "from sklearn.feature_selection import VarianceThreshold\n",
    "\n",
    "# start time\n",
    "start_time_forward = time.time()\n",
    "\n",
    "### Applying feature selection method\n",
    "sel = VarianceThreshold(threshold=2)\n",
    "sel.fit_transform(X)\n",
    "\n",
    "# end time\n",
    "end_time_forward = time.time()\n",
    "time_forward = end_time_forward - start_time_forward\n",
    "\n",
    "# show feature selection\n",
    "selected_features = sel.get_support()\n",
    "print('The selected features are:', list(X.columns[selected_features]))\n",
    "\n",
    "# show elapsed time of this method\n",
    "print(f\"Execution time: {time_forward:.2f} seconds\")"
   ]
  },
  {
   "cell_type": "markdown",
   "id": "a45e275a-f638-4f71-b092-2a0ca51e6756",
   "metadata": {},
   "source": [
    "## Selección de caracteristicas univariada \n",
    "\n",
    "Este método selecciona las mejores características en función de pruebas estadisticas univariadas. Para nuestro conjunto de datos se selecciono un treshold de 3 y se obtuvierón las variables de horas de estudio, asistencia a clase y puntuación previa de pruebas anteriores comp principales que influyen en la puntuación final en el examen. "
   ]
  },
  {
   "cell_type": "code",
   "execution_count": null,
   "id": "bd031c8a-5907-455b-8c9c-5bbbeaf309de",
   "metadata": {},
   "outputs": [],
   "source": [
    "from sklearn.feature_selection import SelectKBest, f_classif\n",
    "\n",
    "# start time\n",
    "start_time_forward = time.time()\n",
    "\n",
    "### Applying feature selection method\n",
    "select_kbest = SelectKBest(score_func=f_classif, k=3)  # change k\n",
    "select_kbest.fit_transform(X, y)\n",
    "\n",
    "# end time\n",
    "end_time_forward = time.time()\n",
    "time_forward = end_time_forward - start_time_forward\n",
    "\n",
    "# show feature selection\n",
    "selected_features = select_kbest.get_support()\n",
    "print('The selected features are:', list(X.columns[selected_features]))\n",
    "\n",
    "# show elapsed time of this method\n",
    "print(f\"Execution time: {time_forward:.2f} seconds\")\n"
   ]
  },
  {
   "cell_type": "markdown",
   "id": "d4a57a4d-da9a-4652-a2a5-201b9a0c6b1d",
   "metadata": {},
   "source": [
    "### Prueba Chi X²\n",
    "\n",
    "Para esta técnica se obtuvieron las varianles de horas de estudio, asistencia, acceso a recursos, puntuaciones previas y sesiones de tutoria con un treshod fijado en k =5."
   ]
  },
  {
   "cell_type": "code",
   "execution_count": null,
   "id": "27cb7dfe-874a-4860-8b32-017e1450bd9c",
   "metadata": {},
   "outputs": [],
   "source": [
    "from sklearn.feature_selection import SelectKBest, chi2\n",
    "\n",
    "# start time\n",
    "start_time_forward = time.time()\n",
    "\n",
    "### Applying feature selection method\n",
    "chi2_selector = SelectKBest(score_func=chi2, k=5)  # change k\n",
    "chi2_selector.fit_transform(X, y)\n",
    "\n",
    "# end time\n",
    "end_time_forward = time.time()\n",
    "time_forward = end_time_forward - start_time_forward\n",
    "\n",
    "# show feature selection\n",
    "selected_features = chi2_selector.get_support()\n",
    "print('The selected features are:', list(X.columns[selected_features]))\n",
    "\n",
    "# show elapsed time of this method\n",
    "print(f\"Execution time: {time_forward:.2f} seconds\")\n"
   ]
  },
  {
   "cell_type": "markdown",
   "id": "fda8aba6-aff4-4b16-951a-5070e0677118",
   "metadata": {},
   "source": [
    "# Coeficiente de correlación\n",
    "Para el caso del coeficiente de correlación se omitio presentar la matriz ya que no se visibilizaba de manera clara las puntuaciones debido al exceso de variables. Sin embargo se presenta de forma descendente las correlaciones mas altas entre las variables las cuales son asistencia, horas de estudio, puntuación previa y sesiones de tutoria con correlaciones mayores a .10"
   ]
  },
  {
   "cell_type": "code",
   "execution_count": null,
   "id": "a8a988a9-05d6-4cb3-bb3f-1ac21fe497ba",
   "metadata": {},
   "outputs": [],
   "source": [
    "# start time\n",
    "start_time_forward = time.time()\n",
    "\n",
    "### Applying feature selection method\n",
    "correlation_matrix = df2.corr()\n",
    "corr_with_target = correlation_matrix[\"categoria\"].drop(\"categoria\")\n",
    "\n",
    "# end time\n",
    "end_time_forward = time.time()\n",
    "time_forward = end_time_forward - start_time_forward\n",
    "\n",
    "# Sort and show features by absolute correlation value\n",
    "sorted_corr = corr_with_target.abs().sort_values(ascending=False)\n",
    "print(f\"Absolute Correlations with the Objective (Outcome):\\n{sorted_corr}\")\n",
    "\n",
    "# Define a threshold for correlation (e.g., keep features with |correlation| > 0.2)\n",
    "threshold = 0.2\n",
    "selected_features_corr = sorted_corr[sorted_corr > threshold].index.tolist()\n",
    "print(f\"Selected features are: {selected_features_corr}\")\n",
    "\n",
    "# show elapsed time of this method\n",
    "print(f\"Execution time: {time_forward:.2f} seconds\")\n"
   ]
  },
  {
   "cell_type": "markdown",
   "id": "da9b1787-32a1-41de-a760-b5d832234075",
   "metadata": {},
   "source": [
    "# Forward Selección\n",
    "\n",
    "Los resultados de este método obtuvierón las variables de 'Hours_Studied', 'Attendance', 'Parental_Involvement', 'Access_to_Resources', 'Previous_Scores', 'Internet_Access', 'Tutoring_Sessions', 'Peer_Influence', 'Distance_from_Home'"
   ]
  },
  {
   "cell_type": "code",
   "execution_count": null,
   "id": "bc84fdc2-4aa4-4a26-8c24-6aefa1533f75",
   "metadata": {},
   "outputs": [],
   "source": [
    "from sklearn.feature_selection import SequentialFeatureSelector\n",
    "from sklearn.linear_model import LinearRegression\n",
    "lr = LinearRegression()"
   ]
  },
  {
   "cell_type": "code",
   "execution_count": null,
   "id": "0187d6ee-1bee-4025-a518-21d00d71f61e",
   "metadata": {},
   "outputs": [],
   "source": [
    "# start time\n",
    "start_time_forward = time.time()\n",
    "\n",
    "### Applying feature selection method\n",
    "ffs = SequentialFeatureSelector(lr, n_features_to_select='auto', direction='forward')\n",
    "ffs.fit(X, y2)\n",
    "\n",
    "# end time\n",
    "end_time_forward = time.time()\n",
    "time_forward = end_time_forward - start_time_forward\n",
    "\n",
    "# show feature selection\n",
    "selected_features = ffs.get_support()\n",
    "print('The selected features are:', list(X.columns[selected_features]))\n",
    "\n",
    "# show elapsed time of this method\n",
    "print(f\"Execution time: {time_forward:.2f} seconds\")"
   ]
  },
  {
   "cell_type": "markdown",
   "id": "7a1df31e-0368-4e91-b351-6ff5cf509dfd",
   "metadata": {},
   "source": [
    "# Backward Selección\n",
    "Para este método las variables seleccionadas fueron las de 'Hours_Studied', 'Attendance', 'Parental_Involvement', 'Access_to_Resources', 'Extracurricular_Activities', 'Previous_Scores', 'Internet_Access', 'Tutoring_Sessions', 'Peer_Influence', 'Distance_from_Home'"
   ]
  },
  {
   "cell_type": "code",
   "execution_count": null,
   "id": "cf441bd7-626c-4662-a69b-f0045654f91f",
   "metadata": {},
   "outputs": [],
   "source": [
    "# start time\n",
    "start_time_forward = time.time()\n",
    "\n",
    "### Applying feature selection method\n",
    "bfs = SequentialFeatureSelector(lr, n_features_to_select='auto', direction='backward')\n",
    "bfs.fit(X, y2)\n",
    "\n",
    "# end time\n",
    "end_time_forward = time.time()\n",
    "time_forward = end_time_forward - start_time_forward\n",
    "\n",
    "# show feature selection\n",
    "selected_features = bfs.get_support()\n",
    "print('The selected features are:', list(X.columns[selected_features]))\n",
    "\n",
    "# show elapsed time of this method\n",
    "print(f\"Execution time: {time_forward:.2f} seconds\")\n"
   ]
  },
  {
   "cell_type": "markdown",
   "id": "354ff551-4feb-460c-b63e-e5b674ee5cee",
   "metadata": {},
   "source": [
    "# Embedded Métodos \n",
    "## Lasso Regularizado \n",
    " Para el método de lasso regularizado con untreshold de 0.1 se obtuvieron con mayor puntuación las variables de horas de estudio, puntuación previa y asistencia. A su vez las demas variables consideradas obtuvierón puntuaciones cercanas a cero."
   ]
  },
  {
   "cell_type": "code",
   "execution_count": null,
   "id": "a42efc02-15c2-41bd-82e0-b439cc2ebfd9",
   "metadata": {},
   "outputs": [],
   "source": [
    "from sklearn.linear_model import Lasso\n",
    "\n",
    "# start time\n",
    "start_time_forward = time.time()\n",
    "\n",
    "### Applying feature selection method\n",
    "lasso = Lasso(alpha=0.1)  # adjust alpha\n",
    "lasso.fit(X, y2)\n",
    "\n",
    "# end time\n",
    "end_time_forward = time.time()\n",
    "time_forward = end_time_forward - start_time_forward\n",
    "\n",
    "# show feature selection\n",
    "lasso_coef = pd.Series(lasso.coef_, index=X.columns)\n",
    "\n",
    "plt.figure(figsize=(10, 6))\n",
    "lasso_coef.plot(kind='bar')\n",
    "plt.title('Feature selection using LASSO')\n",
    "plt.show()\n",
    "\n",
    "# show elapsed time of this method\n",
    "print(f\"Execution time: {time_forward:.2f} seconds\")"
   ]
  },
  {
   "cell_type": "markdown",
   "id": "ea814511-0a3d-483a-83be-010e453863e5",
   "metadata": {},
   "source": [
    "# Arboles aleatorios\n",
    " Por ultimo, se áplico el método de árboles aleatorios y las variables que obtuvierón un mayor puntaje fuerón las de asistencia, puntuación previa y horas de estudio."
   ]
  },
  {
   "cell_type": "code",
   "execution_count": null,
   "id": "005329f6-d534-4fec-bb64-d2c08d4ba4a0",
   "metadata": {},
   "outputs": [],
   "source": [
    "from sklearn.ensemble import RandomForestClassifier\n",
    "\n",
    "# start time\n",
    "start_time_forward = time.time()\n",
    "\n",
    "### Applying feature selection method\n",
    "rf = RandomForestClassifier(n_estimators=100, random_state=42)\n",
    "rf.fit(X, y)\n",
    "\n",
    "# show feature selection\n",
    "importances = rf.feature_importances_\n",
    "forest_importances = pd.Series(importances, index=X.columns)\n",
    "\n",
    "plt.figure(figsize=(10, 6))\n",
    "forest_importances.plot(kind='bar')\n",
    "plt.title('Feature selection using Random Forest')\n",
    "plt.show()\n",
    "\n",
    "# show elapsed time of this method\n",
    "print(f\"Execution time: {time_forward:.2f} seconds\")"
   ]
  },
  {
   "cell_type": "markdown",
   "id": "e6d3f446-e1e3-4526-8679-8b3353dd7447",
   "metadata": {},
   "source": [
    "# Conclusiones \n",
    "De acuerdo a los resultados presentados anteriormente se puede concluir que el método de reducción de dimensionalidad que obutvo el mejor desemepeño fue el discriminante líneal, asi como el UMAP. SIn embargo dichos métodos tienen desempeño deficiente para la identificación de la clase con menores registros. \n",
    "Por otro lado se aplicarón varios métodos de selección de caracteristicas y en la mayoria las variables que predominarón fueron la asistencia, el número de horas de estudio y las puntuaciones en los examenes previos. A su vez las demas variables no presentaban un aporte reelevante en la influencia en el desempeño de los estudiantes en el examen final.\n",
    "Estos resultados son utiles ya que proveen información util para las entidades educativas para mejorar el desempeño y calidad del aprendizaje asi como para establecer iniciativas que ayuden en el desarrollo academico de sus estudiantes."
   ]
  },
  {
   "cell_type": "code",
   "execution_count": null,
   "id": "7bd1113b-8ffc-468c-8be2-4ffee2e7a610",
   "metadata": {},
   "outputs": [],
   "source": []
  }
 ],
 "metadata": {
  "kernelspec": {
   "display_name": "Python 3 (ipykernel)",
   "language": "python",
   "name": "python3"
  },
  "language_info": {
   "codemirror_mode": {
    "name": "ipython",
    "version": 3
   },
   "file_extension": ".py",
   "mimetype": "text/x-python",
   "name": "python",
   "nbconvert_exporter": "python",
   "pygments_lexer": "ipython3",
   "version": "3.10.12"
  }
 },
 "nbformat": 4,
 "nbformat_minor": 5
}
